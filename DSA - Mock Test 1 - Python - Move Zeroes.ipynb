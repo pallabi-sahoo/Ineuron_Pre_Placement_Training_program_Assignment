{
 "cells": [
  {
   "cell_type": "markdown",
   "id": "cb6b3877",
   "metadata": {},
   "source": [
    "Move Zeroes                                                                                                \n",
    "Given an integer array nums, move all 0's to the end of it while maintaining the relative order of the non-zero elements.\n",
    "                                                               \n",
    "Note that you must do this in-place without making a copy of the array.                  \n",
    "                                                                     \n",
    "Example 1:                                     \n",
    "Input: nums = [0,1,0,3,12]                          \n",
    "Output: [1,3,12,0,0]               \n",
    "                                                   \n",
    "Example 2:                                         \n",
    "Input: nums = [0]                             \n",
    "Output: [0]                                           \n",
    "                                                    \n",
    "Constraints:                                      \n",
    "a. 1 <= nums.length <= 10^4                                \n",
    "b. -2^31 <= nums[i] <= 2^31 - 1                                \n",
    "                                                              \n",
    "Note: Create a GitHub file for the solution and add the file link the the answer section below."
   ]
  },
  {
   "cell_type": "code",
   "execution_count": 1,
   "id": "7bbc9147",
   "metadata": {},
   "outputs": [
    {
     "name": "stdout",
     "output_type": "stream",
     "text": [
      "[1, 3, 12, 0, 0]\n",
      "[0]\n"
     ]
    }
   ],
   "source": [
    "def moveZeroes(nums):\n",
    "    # Initialize two pointers: one to iterate through the array and another to track the position to place non-zero elements\n",
    "    i = 0  # Pointer to iterate through the array\n",
    "    \n",
    "    # Iterate through the array\n",
    "    for num in nums:\n",
    "        if num != 0:\n",
    "            # Place non-zero elements at the current position and move the pointer forward\n",
    "            nums[i] = num\n",
    "            i += 1\n",
    "    \n",
    "    # Fill the remaining positions with zeroes\n",
    "    while i < len(nums):\n",
    "        nums[i] = 0\n",
    "        i += 1\n",
    "\n",
    "# Test the function\n",
    "nums = [0, 1, 0, 3, 12]\n",
    "moveZeroes(nums)\n",
    "print(nums)  # Output: [1, 3, 12, 0, 0]\n",
    "\n",
    "# Test the function\n",
    "nums = [0]\n",
    "moveZeroes(nums)\n",
    "print(nums)  # Output: [0]"
   ]
  },
  {
   "cell_type": "code",
   "execution_count": null,
   "id": "636cb9cd",
   "metadata": {},
   "outputs": [],
   "source": []
  }
 ],
 "metadata": {
  "kernelspec": {
   "display_name": "Python 3 (ipykernel)",
   "language": "python",
   "name": "python3"
  },
  "language_info": {
   "codemirror_mode": {
    "name": "ipython",
    "version": 3
   },
   "file_extension": ".py",
   "mimetype": "text/x-python",
   "name": "python",
   "nbconvert_exporter": "python",
   "pygments_lexer": "ipython3",
   "version": "3.9.7"
  }
 },
 "nbformat": 4,
 "nbformat_minor": 5
}

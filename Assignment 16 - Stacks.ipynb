{
 "cells": [
  {
   "cell_type": "markdown",
   "id": "cf9a83c8",
   "metadata": {},
   "source": [
    "💡 **Question 1**\n",
    "\n",
    "Given an array, for each element find the value of the nearest element to the right which is having a frequency greater than that of the current element. If there does not exist an answer for a position, then make the value ‘-1’.\n",
    "\n",
    "**Examples:**\n",
    "\n",
    "Input: a[] = [1, 1, 2, 3, 4, 2, 1]\n",
    "Output : [-1, -1, 1, 2, 2, 1, -1]\n",
    "\n",
    "Explanation:\n",
    "Given array a[] = [1, 1, 2, 3, 4, 2, 1]\n",
    "Frequency of each element is: 3, 3, 2, 1, 1, 2, 3\n",
    "\n",
    "Lets calls Next Greater Frequency element as NGF\n",
    "1. For element a[0] = 1 which has a frequency = 3,\n",
    "   As it has frequency of 3 and no other next element\n",
    "   has frequency more than 3 so  '-1'\n",
    "2. For element a[1] = 1 it will be -1 same logic\n",
    "   like a[0]\n",
    "3. For element a[2] = 2 which has frequency = 2,\n",
    "   NGF element is 1 at position = 6  with frequency\n",
    "   of 3 > 2\n",
    "4. For element a[3] = 3 which has frequency = 1,\n",
    "   NGF element is 2 at position = 5 with frequency\n",
    "   of 2 > 1\n",
    "5. For element a[4] = 4 which has frequency = 1,\n",
    "   NGF element is 2 at position = 5 with frequency\n",
    "   of 2 > 1\n",
    "6. For element a[5] = 2 which has frequency = 2,\n",
    "   NGF element is 1 at position = 6 with frequency\n",
    "   of 3 > 2\n",
    "7. For element a[6] = 1 there is no element to its\n",
    "   right, hence -1\n",
    "   \n",
    "Input : a[] = [1, 1, 1, 2, 2, 2, 2, 11, 3, 3]           \n",
    "Output : [2, 2, 2, -1, -1, -1, -1, 3, -1, -1]             "
   ]
  },
  {
   "cell_type": "code",
   "execution_count": 1,
   "id": "1139e203",
   "metadata": {},
   "outputs": [
    {
     "name": "stdout",
     "output_type": "stream",
     "text": [
      "[-1, -1, -1, -1, -1, -1, -1]\n",
      "[2, 2, 2, -1, -1, -1, 3, 3, -1, -1]\n"
     ]
    }
   ],
   "source": [
    "def findNearestGreaterFrequency(arr):\n",
    "    n = len(arr)\n",
    "    stack = []\n",
    "    frequency = {}\n",
    "    result = [-1] * n\n",
    "\n",
    "    for i in range(n - 1, -1, -1):\n",
    "        if arr[i] in frequency:\n",
    "            frequency[arr[i]] += 1\n",
    "        else:\n",
    "            frequency[arr[i]] = 1\n",
    "\n",
    "        while stack and frequency[arr[i]] >= frequency[stack[-1]]:\n",
    "            stack.pop()\n",
    "\n",
    "        if stack:\n",
    "            result[i] = stack[-1]\n",
    "\n",
    "        stack.append(arr[i])\n",
    "\n",
    "    return result\n",
    "\n",
    "\n",
    "# Example usage\n",
    "arr = [1, 1, 2, 3, 4, 2, 1]\n",
    "print(findNearestGreaterFrequency(arr))  # Output: [-1, -1, 1, 2, 2, 1, -1]\n",
    "\n",
    "arr = [1, 1, 1, 2, 2, 2, 2, 11, 3, 3]\n",
    "print(findNearestGreaterFrequency(arr))  # Output: [2, 2, 2, -1, -1, -1, -1, 3, -1, -1]"
   ]
  },
  {
   "cell_type": "markdown",
   "id": "0cf1c3d8",
   "metadata": {},
   "source": [
    "💡 **Question 2**\n",
    "\n",
    "Given a stack of integers, sort it in ascending order using another temporary stack.\n",
    "\n",
    "**Examples:**\n",
    "Input : [34, 3, 31, 98, 92, 23]          \n",
    "Output : [3, 23, 31, 34, 92, 98]           \n",
    "\n",
    "Input : [3, 5, 1, 4, 2, 8]         \n",
    "Output : [1, 2, 3, 4, 5, 8]          "
   ]
  },
  {
   "cell_type": "code",
   "execution_count": 2,
   "id": "ff066bd9",
   "metadata": {},
   "outputs": [
    {
     "name": "stdout",
     "output_type": "stream",
     "text": [
      "[3, 23, 31, 34, 92, 98]\n",
      "[1, 2, 3, 4, 5, 8]\n"
     ]
    }
   ],
   "source": [
    "def sortStack(stack):\n",
    "    tempStack = []\n",
    "\n",
    "    while stack:\n",
    "        temp = stack.pop()\n",
    "\n",
    "        while tempStack and tempStack[-1] < temp:\n",
    "            stack.append(tempStack.pop())\n",
    "\n",
    "        tempStack.append(temp)\n",
    "\n",
    "    return tempStack\n",
    "\n",
    "\n",
    "# Example usage\n",
    "stack = [34, 3, 31, 98, 92, 23]\n",
    "sorted_stack = sortStack(stack)\n",
    "print(sorted_stack[::-1])  # Output: [3, 23, 31, 34, 92, 98]\n",
    "\n",
    "stack = [3, 5, 1, 4, 2, 8]\n",
    "sorted_stack = sortStack(stack)\n",
    "print(sorted_stack[::-1])  # Output: [1, 2, 3, 4, 5, 8]"
   ]
  },
  {
   "cell_type": "markdown",
   "id": "5fb3913c",
   "metadata": {},
   "source": [
    "💡 **Question 3**\n",
    "\n",
    "Given a stack with **push()**, **pop()**, and **empty()** operations, The task is to delete the **middle** element ****of it without using any additional data structure.\n",
    "\n",
    "Input  : Stack[] = [1, 2, 3, 4, 5]\n",
    "\n",
    "Output : Stack[] = [1, 2, 4, 5]\n",
    "\n",
    "Input  : Stack[] = [1, 2, 3, 4, 5, 6]\n",
    "\n",
    "Output : Stack[] = [1, 2, 4, 5, 6]\n"
   ]
  },
  {
   "cell_type": "code",
   "execution_count": 3,
   "id": "3eb22289",
   "metadata": {},
   "outputs": [
    {
     "name": "stdout",
     "output_type": "stream",
     "text": [
      "[1, 2, 4, 5]\n",
      "[1, 2, 4, 5, 6]\n"
     ]
    }
   ],
   "source": [
    "def deleteMiddle(stack, k):\n",
    "    # Base case: if stack is empty or only one element is left\n",
    "    if k == 1:\n",
    "        stack.pop()\n",
    "        return\n",
    "\n",
    "    # Remove the top element\n",
    "    temp = stack.pop()\n",
    "\n",
    "    # Recursively delete the middle element\n",
    "    deleteMiddle(stack, k - 1)\n",
    "\n",
    "    # Push the removed element back\n",
    "    stack.append(temp)\n",
    "\n",
    "\n",
    "def deleteMiddleElement(stack):\n",
    "    size = len(stack)\n",
    "\n",
    "    # Call deleteMiddle() with the middle element index\n",
    "    deleteMiddle(stack, (size // 2) + 1)\n",
    "\n",
    "\n",
    "# Example usage\n",
    "stack = [1, 2, 3, 4, 5]\n",
    "deleteMiddleElement(stack)\n",
    "print(stack)  # Output: [1, 2, 4, 5]\n",
    "\n",
    "stack = [1, 2, 3, 4, 5, 6]\n",
    "deleteMiddleElement(stack)\n",
    "print(stack)  # Output: [1, 2, 4, 5, 6]\n"
   ]
  },
  {
   "cell_type": "markdown",
   "id": "d4d7a505",
   "metadata": {},
   "source": [
    "💡 **Question 4**\n",
    "\n",
    "Given a Queue consisting of first **n** natural numbers (in random order). The task is to check whether the given Queue elements can be arranged in increasing order in another Queue using a stack. The operation allowed are:\n",
    "\n",
    "1. Push and pop elements from the stack\n",
    "2. Pop (Or Dequeue) from the given Queue.\n",
    "3. Push (Or Enqueue) in the another Queue.\n",
    "\n",
    "**Examples :**\n",
    "\n",
    "Input : Queue[] = { 5, 1, 2, 3, 4 } \n",
    "\n",
    "Output : Yes \n",
    "\n",
    "Pop the first element of the given Queue \n",
    "\n",
    "i.e 5. Push 5 into the stack. \n",
    "\n",
    "Now, pop all the elements of the given Queue and push them to second Queue. \n",
    "\n",
    "Now, pop element 5 in the stack and push it to the second Queue.   \n",
    "\n",
    "Input : Queue[] = { 5, 1, 2, 6, 3, 4 } \n",
    "\n",
    "Output : No \n",
    "\n",
    "Push 5 to stack. \n",
    "\n",
    "Pop 1, 2 from given Queue and push it to another Queue. \n",
    "\n",
    "Pop 6 from given Queue and push to stack. \n",
    "\n",
    "Pop 3, 4 from given Queue and push to second Queue. \n",
    "\n",
    "Now, from using any of above operation, we cannot push 5 into the second Queue because it is below the 6 in the stack.\n"
   ]
  },
  {
   "cell_type": "code",
   "execution_count": 4,
   "id": "fcb6a890",
   "metadata": {},
   "outputs": [
    {
     "name": "stdout",
     "output_type": "stream",
     "text": [
      "Yes\n",
      "No\n"
     ]
    }
   ],
   "source": [
    "from collections import deque\n",
    "\n",
    "def checkIncreasingOrder(queue):\n",
    "    stack = []\n",
    "    firstQueue = deque(queue)\n",
    "    secondQueue = deque()\n",
    "\n",
    "    # Pop the first element and push it into the stack\n",
    "    firstElement = firstQueue.popleft()\n",
    "    stack.append(firstElement)\n",
    "\n",
    "    # Check if elements can be arranged in increasing order\n",
    "    while stack and firstQueue:\n",
    "        top = stack[-1]\n",
    "\n",
    "        if firstQueue[0] < top:\n",
    "            secondQueue.append(firstQueue.popleft())\n",
    "        elif top == firstQueue[0]:\n",
    "            secondQueue.append(firstQueue.popleft())\n",
    "            stack.pop()\n",
    "        else:\n",
    "            return \"No\"\n",
    "\n",
    "    # Move the remaining elements from firstQueue to secondQueue\n",
    "    while firstQueue:\n",
    "        secondQueue.append(firstQueue.popleft())\n",
    "\n",
    "    # Check if the elements in the secondQueue are in increasing order\n",
    "    for i in range(len(secondQueue) - 1):\n",
    "        if secondQueue[i] >= secondQueue[i + 1]:\n",
    "            return \"No\"\n",
    "\n",
    "    return \"Yes\"\n",
    "\n",
    "# Example usage\n",
    "queue = [5, 1, 2, 3, 4]\n",
    "print(checkIncreasingOrder(queue))  # Output: Yes\n",
    "\n",
    "queue = [5, 1, 2, 6, 3, 4]\n",
    "print(checkIncreasingOrder(queue))  # Output: No\n"
   ]
  },
  {
   "cell_type": "markdown",
   "id": "a2b67cbe",
   "metadata": {},
   "source": [
    "💡 **Question 5**\n",
    "\n",
    "Given a number , write a program to reverse this number using stack.\n",
    "\n",
    "**Examples:**\n",
    "Input : 365               \n",
    "Output : 563            \n",
    "\n",
    "Input : 6899                \n",
    "Output : 9986         "
   ]
  },
  {
   "cell_type": "code",
   "execution_count": 5,
   "id": "672a4125",
   "metadata": {},
   "outputs": [
    {
     "name": "stdout",
     "output_type": "stream",
     "text": [
      "563\n",
      "9986\n"
     ]
    }
   ],
   "source": [
    "def reverseNumber(num):\n",
    "    num_str = str(num)  # Convert the number to a string\n",
    "    stack = []\n",
    "    \n",
    "    # Push each digit onto the stack\n",
    "    for digit in num_str:\n",
    "        stack.append(digit)\n",
    "    \n",
    "    reversed_num = ''\n",
    "    \n",
    "    # Pop digits from the stack and append to the reversed number string\n",
    "    while stack:\n",
    "        reversed_num += stack.pop()\n",
    "    \n",
    "    return int(reversed_num)\n",
    "\n",
    "# Example usage\n",
    "num = 365\n",
    "print(reverseNumber(num))  # Output: 563\n",
    "\n",
    "num = 6899\n",
    "print(reverseNumber(num))  # Output: 9986"
   ]
  },
  {
   "cell_type": "markdown",
   "id": "1c8775c6",
   "metadata": {},
   "source": [
    "💡 **Question 6**\n",
    "\n",
    "Given an integer k and a **[queue](https://www.geeksforgeeks.org/queue-data-structure/)** of integers, The task is to reverse the order of the first **k** elements of the queue, leaving the other elements in the same relative order.\n",
    "\n",
    "Only following standard operations are allowed on queue.\n",
    "\n",
    "- **enqueue(x) :** Add an item x to rear of queue\n",
    "- **dequeue() :** Remove an item from front of queue\n",
    "- **size() :** Returns number of elements in queue.\n",
    "- **front() :** Finds front item."
   ]
  },
  {
   "cell_type": "code",
   "execution_count": 6,
   "id": "afba1e82",
   "metadata": {},
   "outputs": [
    {
     "name": "stdout",
     "output_type": "stream",
     "text": [
      "4 5 3 2 1 "
     ]
    }
   ],
   "source": [
    "from queue import Queue\n",
    "\n",
    "def reverseKElements(queue, k):\n",
    "    stack = []\n",
    "    tempQueue = Queue()\n",
    "    \n",
    "    # Dequeue the first k elements and push them onto the stack\n",
    "    for _ in range(k):\n",
    "        stack.append(queue.get())\n",
    "    \n",
    "    # Enqueue the remaining elements into the temporary queue\n",
    "    while not queue.empty():\n",
    "        tempQueue.put(queue.get())\n",
    "    \n",
    "    # Pop elements from the stack and enqueue them into the temporary queue\n",
    "    while stack:\n",
    "        tempQueue.put(stack.pop())\n",
    "    \n",
    "    # Enqueue the elements from the temporary queue into the given queue\n",
    "    while not tempQueue.empty():\n",
    "        queue.put(tempQueue.get())\n",
    "    \n",
    "    return queue\n",
    "\n",
    "# Example usage\n",
    "queue = Queue()\n",
    "queue.put(1)\n",
    "queue.put(2)\n",
    "queue.put(3)\n",
    "queue.put(4)\n",
    "queue.put(5)\n",
    "\n",
    "k = 3\n",
    "modified_queue = reverseKElements(queue, k)\n",
    "while not modified_queue.empty():\n",
    "    print(modified_queue.get(), end=' ')"
   ]
  },
  {
   "cell_type": "markdown",
   "id": "3dc701be",
   "metadata": {},
   "source": [
    "💡 **Question 7**\n",
    "\n",
    "Given a sequence of n strings, the task is to check if any two similar words come together and then destroy each other then print the number of words left in the sequence after this pairwise destruction.\n",
    "\n",
    "**Examples:**\n",
    "\n",
    "Input : ab aa aa bcd ab\n",
    "\n",
    "Output : 3\n",
    "\n",
    "*As aa, aa destroys each other so,*\n",
    "\n",
    "*ab bcd ab is the new sequence.*\n",
    "\n",
    "Input :  tom jerry jerry tom\n",
    "\n",
    "Output : 0\n",
    "\n",
    "*As first both jerry will destroy each other.*\n",
    "\n",
    "*Then sequence will be tom, tom they will also destroy*\n",
    "\n",
    "*each other. So, the final sequence doesn’t contain any*\n",
    "\n",
    "*word.*\n"
   ]
  },
  {
   "cell_type": "code",
   "execution_count": 7,
   "id": "d9c3f623",
   "metadata": {},
   "outputs": [
    {
     "name": "stdout",
     "output_type": "stream",
     "text": [
      "3\n",
      "0\n"
     ]
    }
   ],
   "source": [
    "def countRemainingWords(sequence):\n",
    "    stack = []\n",
    "    words = sequence.split()\n",
    "\n",
    "    for word in words:\n",
    "        if len(stack) == 0 or word != stack[-1]:\n",
    "            stack.append(word)\n",
    "        else:\n",
    "            stack.pop()\n",
    "\n",
    "    return len(stack)\n",
    "\n",
    "# Example usage\n",
    "sequence = \"ab aa aa bcd ab\"\n",
    "result = countRemainingWords(sequence)\n",
    "print(result)  # Output: 3\n",
    "\n",
    "sequence = \"tom jerry jerry tom\"\n",
    "result = countRemainingWords(sequence)\n",
    "print(result)  # Output: 0\n"
   ]
  },
  {
   "cell_type": "markdown",
   "id": "75df8b30",
   "metadata": {},
   "source": [
    "💡 **Question 8**\n",
    "\n",
    "Given an array of integers, the task is to find the maximum absolute difference between the nearest left and the right smaller element of every element in the array.\n",
    "\n",
    "**Note:** If there is no smaller element on right side or left side of any element then we take zero as the smaller element. For example for the leftmost element, the nearest smaller element on the left side is considered as 0. Similarly, for rightmost elements, the smaller element on the right side is considered as 0.\n",
    "\n",
    "**Examples:**\n",
    "Input : arr[] = {2, 1, 8}        \n",
    "Output : 1              \n",
    "Left smaller  LS[] {0, 0, 1}           \n",
    "Right smaller RS[] {1, 0, 0}                \n",
    "Maximum Diff of abs(LS[i] - RS[i]) = 1              \n",
    "\n",
    "Input  : arr[] = {2, 4, 8, 7, 7, 9, 3}                \n",
    "Output : 4                     \n",
    "Left smaller   LS[] = {0, 2, 4, 4, 4, 7, 2}             \n",
    "Right smaller  RS[] = {0, 3, 7, 3, 3, 3, 0}                 \n",
    "Maximum Diff of abs(LS[i] - RS[i]) = 7 - 3 = 4                 \n",
    "\n",
    "Input : arr[] = {5, 1, 9, 2, 5, 1, 7}             \n",
    "Output : 1                "
   ]
  },
  {
   "cell_type": "code",
   "execution_count": 8,
   "id": "1a09ba9f",
   "metadata": {},
   "outputs": [
    {
     "name": "stdout",
     "output_type": "stream",
     "text": [
      "1\n",
      "4\n",
      "4\n"
     ]
    }
   ],
   "source": [
    "def maxAbsDifference(arr):\n",
    "    n = len(arr)\n",
    "    leftSmaller = [0] * n\n",
    "    rightSmaller = [0] * n\n",
    "    stack = []\n",
    "\n",
    "    # Find the nearest smaller element on the left\n",
    "    for i in range(n):\n",
    "        while stack and arr[stack[-1]] > arr[i]:\n",
    "            stack.pop()\n",
    "        if stack:\n",
    "            leftSmaller[i] = stack[-1]\n",
    "        stack.append(i)\n",
    "\n",
    "    stack.clear()\n",
    "\n",
    "    # Find the nearest smaller element on the right\n",
    "    for i in range(n - 1, -1, -1):\n",
    "        while stack and arr[stack[-1]] > arr[i]:\n",
    "            stack.pop()\n",
    "        if stack:\n",
    "            rightSmaller[i] = stack[-1]\n",
    "        stack.append(i)\n",
    "\n",
    "    maxDiff = 0\n",
    "\n",
    "    # Compute the maximum absolute difference\n",
    "    for i in range(n):\n",
    "        diff = abs(arr[leftSmaller[i]] - arr[rightSmaller[i]])\n",
    "        maxDiff = max(maxDiff, diff)\n",
    "\n",
    "    return maxDiff\n",
    "\n",
    "# Example usage\n",
    "arr = [2, 1, 8]\n",
    "result = maxAbsDifference(arr)\n",
    "print(result)  # Output: 1\n",
    "\n",
    "arr = [2, 4, 8, 7, 7, 9, 3]\n",
    "result = maxAbsDifference(arr)\n",
    "print(result)  # Output: 4\n",
    "\n",
    "arr = [5, 1, 9, 2, 5, 1, 7]\n",
    "result = maxAbsDifference(arr)\n",
    "print(result)  # Output: 4\n"
   ]
  },
  {
   "cell_type": "code",
   "execution_count": null,
   "id": "8bd47d2d",
   "metadata": {},
   "outputs": [],
   "source": []
  }
 ],
 "metadata": {
  "kernelspec": {
   "display_name": "Python 3 (ipykernel)",
   "language": "python",
   "name": "python3"
  },
  "language_info": {
   "codemirror_mode": {
    "name": "ipython",
    "version": 3
   },
   "file_extension": ".py",
   "mimetype": "text/x-python",
   "name": "python",
   "nbconvert_exporter": "python",
   "pygments_lexer": "ipython3",
   "version": "3.9.7"
  }
 },
 "nbformat": 4,
 "nbformat_minor": 5
}

{
 "cells": [
  {
   "cell_type": "markdown",
   "id": "ff4ff3f5",
   "metadata": {},
   "source": [
    "💡 **Question 1**\n",
    "\n",
    "Given an array **arr[ ]** of size **N** having elements, the task is to find the next greater element for each element of the array in order of their appearance in the array.Next greater element of an element in the array is the nearest element on the right which is greater than the current element.If there does not exist next greater of current element, then next greater element for current element is -1. For example, next greater of the last element is always -1.\n",
    "\n",
    "**Example 1:**\n",
    "Input:                  \n",
    "N = 4, arr[] = [1 3 2 4]           \n",
    "Output:3 4 4 -1              \n",
    "Explanation:In the array, the next larger elementto 1 is 3 , 3 is 4 , 2 is 4 and for 4 ? since it doesn't exist, it is -1.\n",
    "\n",
    "**Example 2:**        \n",
    "Input: N = 5, arr[] [6 8 0 1 3]              \n",
    "Output: 8 -1 1 3 -1             \n",
    "Explanation:In the array, the next larger element to 6 is 8, for 8 there is no larger elements hence it is -1, for 0 it is 1 , for 1 itis 3 and then for 3 there is no largerelement on right and hence -1."
   ]
  },
  {
   "cell_type": "code",
   "execution_count": 1,
   "id": "e9fa921a",
   "metadata": {},
   "outputs": [
    {
     "name": "stdout",
     "output_type": "stream",
     "text": [
      "[3, 4, 4, -1]\n",
      "[8, -1, 1, 3, -1]\n"
     ]
    }
   ],
   "source": [
    "def findNextGreaterElements(arr):\n",
    "    n = len(arr)\n",
    "    stack = []\n",
    "    result = [-1] * n\n",
    "\n",
    "    for i in range(n-1, -1, -1):\n",
    "        while stack and stack[-1] <= arr[i]:\n",
    "            stack.pop()\n",
    "        if stack:\n",
    "            result[i] = stack[-1]\n",
    "        stack.append(arr[i])\n",
    "\n",
    "    return result\n",
    "\n",
    "# Example usage\n",
    "arr = [1, 3, 2, 4]\n",
    "nextGreater = findNextGreaterElements(arr)\n",
    "print(nextGreater)  # Output: [3, 4, 4, -1]\n",
    "\n",
    "arr = [6, 8, 0, 1, 3]\n",
    "nextGreater = findNextGreaterElements(arr)\n",
    "print(nextGreater)  # Output: [8, -1, 1, 3, -1]\n"
   ]
  },
  {
   "cell_type": "markdown",
   "id": "66cf6cbd",
   "metadata": {},
   "source": [
    "💡 **Question 2**\n",
    "\n",
    "Given an array **a** of integers of length **n**, find the nearest smaller number for every element such that the smaller element is on left side.If no small element present on the left print -1.\n",
    "\n",
    "**Example 1:**            \n",
    "Input: n = 3 a = {1, 6, 2}\n",
    "Output: -1 1 1              \n",
    "Explaination: There is no number at the left of 1. Smaller number than 6 and 2 is 1.\n",
    "\n",
    "**Example 2:**\n",
    "Input: n = 6 a = {1, 5, 0, 3, 4, 5}            \n",
    "Output: -1 1 -1 0 3 4                \n",
    "Explaination: Upto 3 it is easy to see the smaller numbers. But for 4 the smaller numbers are 1, 0 and 3. But among them 3\n",
    "is closest. Similary for 5 it is 4.           "
   ]
  },
  {
   "cell_type": "code",
   "execution_count": 2,
   "id": "7568dce9",
   "metadata": {},
   "outputs": [
    {
     "name": "stdout",
     "output_type": "stream",
     "text": [
      "[-1, 1, 1]\n",
      "[-1, 1, -1, 0, 3, 4]\n"
     ]
    }
   ],
   "source": [
    "def findNearestSmallerElements(arr):\n",
    "    n = len(arr)\n",
    "    stack = []\n",
    "    result = [-1] * n\n",
    "\n",
    "    for i in range(n):\n",
    "        while stack and stack[-1] >= arr[i]:\n",
    "            stack.pop()\n",
    "        if stack:\n",
    "            result[i] = stack[-1]\n",
    "        stack.append(arr[i])\n",
    "\n",
    "    return result\n",
    "\n",
    "# Example usage\n",
    "arr = [1, 6, 2]\n",
    "nearestSmaller = findNearestSmallerElements(arr)\n",
    "print(nearestSmaller)  # Output: [-1, 1, 1]\n",
    "\n",
    "arr = [1, 5, 0, 3, 4, 5]\n",
    "nearestSmaller = findNearestSmallerElements(arr)\n",
    "print(nearestSmaller)  # Output: [-1, 1, -1, 0, 3, 4]\n"
   ]
  },
  {
   "cell_type": "markdown",
   "id": "22552ffa",
   "metadata": {},
   "source": [
    "💡 **Question 3**\n",
    "\n",
    "Implement a Stack using two queues **q1** and **q2**.\n",
    "\n",
    "**Example 1:**\n",
    "Input:       \n",
    "push(2)        \n",
    "push(3)       \n",
    "pop()       \n",
    "push(4)          \n",
    "pop()           \n",
    "Output:3 4              \n",
    "Explanation:                       \n",
    "push(2) the stack will be {2}                     \n",
    "push(3) the stack will be {2 3}               \n",
    "pop()   poped element will be 3 the                \n",
    "        stack will be {2}            \n",
    "push(4) the stack will be {2 4}           \n",
    "pop()   poped element will be 4              \n",
    "\n",
    "**Example 2:**           \n",
    "Input:           \n",
    "push(2)              \n",
    "pop()        \n",
    "pop()            \n",
    "push(3)           \n",
    "Output:2 -1             "
   ]
  },
  {
   "cell_type": "code",
   "execution_count": 3,
   "id": "a5550a1c",
   "metadata": {},
   "outputs": [
    {
     "name": "stdout",
     "output_type": "stream",
     "text": [
      "3\n",
      "4\n",
      "2\n",
      "-1\n",
      "3\n"
     ]
    }
   ],
   "source": [
    "from queue import Queue\n",
    "\n",
    "class Stack:\n",
    "    def __init__(self):\n",
    "        self.q1 = Queue()\n",
    "        self.q2 = Queue()\n",
    "\n",
    "    def push(self, x):\n",
    "        # Push the element into the non-empty queue\n",
    "        if self.q1.empty():\n",
    "            self.q2.put(x)\n",
    "        else:\n",
    "            self.q1.put(x)\n",
    "\n",
    "    def pop(self):\n",
    "        if self.q1.empty() and self.q2.empty():\n",
    "            return -1\n",
    "\n",
    "        # Empty the non-empty queue into the empty queue until one element is left\n",
    "        if self.q1.empty():\n",
    "            while self.q2.qsize() > 1:\n",
    "                self.q1.put(self.q2.get())\n",
    "            return self.q2.get()\n",
    "        else:\n",
    "            while self.q1.qsize() > 1:\n",
    "                self.q2.put(self.q1.get())\n",
    "            return self.q1.get()\n",
    "\n",
    "# Example usage\n",
    "stack = Stack()\n",
    "stack.push(2)\n",
    "stack.push(3)\n",
    "print(stack.pop())  # Output: 3\n",
    "stack.push(4)\n",
    "print(stack.pop())  # Output: 4\n",
    "\n",
    "stack = Stack()\n",
    "stack.push(2)\n",
    "print(stack.pop())  # Output: 2\n",
    "print(stack.pop())  # Output: -1\n",
    "stack.push(3)\n",
    "print(stack.pop())  # Output: 3\n"
   ]
  },
  {
   "cell_type": "markdown",
   "id": "8cf64f88",
   "metadata": {},
   "source": [
    "💡 **Question 4**\n",
    "\n",
    "You are given a stack **St**. You have to reverse the stack using recursion.\n",
    "\n",
    "**Example 1:**             \n",
    "Input:St = {3,2,1,7,6}            \n",
    "Output:{6,7,1,2,3}            \n",
    "                    \n",
    "**Example 2:**             m\n",
    "Input:St = {4,3,9,6}        \n",
    "Output:{6,9,3,4}              "
   ]
  },
  {
   "cell_type": "code",
   "execution_count": 4,
   "id": "0dfb90d0",
   "metadata": {},
   "outputs": [
    {
     "name": "stdout",
     "output_type": "stream",
     "text": [
      "[6, 7, 1, 2, 3]\n",
      "[6, 9, 3, 4]\n"
     ]
    }
   ],
   "source": [
    "def reverseStack(St):\n",
    "    if len(St) <= 1:\n",
    "        return St\n",
    "\n",
    "    topElement = St.pop()\n",
    "    St = reverseStack(St)\n",
    "\n",
    "    if len(St) == 0:\n",
    "        St.append(topElement)\n",
    "    else:\n",
    "        temp = St.pop()\n",
    "        St = reverseStack(St)\n",
    "        St.append(topElement)\n",
    "        St = reverseStack(St)\n",
    "        St.append(temp)\n",
    "\n",
    "    return St\n",
    "\n",
    "# Example usage\n",
    "St = [3, 2, 1, 7, 6]\n",
    "reversedSt = reverseStack(St)\n",
    "print(reversedSt)  # Output: [6, 7, 1, 2, 3]\n",
    "\n",
    "St = [4, 3, 9, 6]\n",
    "reversedSt = reverseStack(St)\n",
    "print(reversedSt)  # Output: [6, 9, 3, 4]\n"
   ]
  },
  {
   "cell_type": "markdown",
   "id": "90f3c0a6",
   "metadata": {},
   "source": [
    "💡 **Question 5**\n",
    "\n",
    "You are given a string **S**, the task is to reverse the string using stack.\n",
    "\n",
    "**Example 1:**\n",
    "\n",
    "Input: S=\"GeeksforGeeks\"       \n",
    "Output: skeeGrofskeeG"
   ]
  },
  {
   "cell_type": "code",
   "execution_count": 5,
   "id": "39ff0b5f",
   "metadata": {},
   "outputs": [
    {
     "name": "stdout",
     "output_type": "stream",
     "text": [
      "skeeGrofskeeG\n"
     ]
    }
   ],
   "source": [
    "def reverseString(S):\n",
    "    stack = []\n",
    "    reversedS = \"\"\n",
    "\n",
    "    # Push each character onto the stack\n",
    "    for char in S:\n",
    "        stack.append(char)\n",
    "\n",
    "    # Pop each character from the stack and append it to the reversed string\n",
    "    while stack:\n",
    "        reversedS += stack.pop()\n",
    "\n",
    "    return reversedS\n",
    "\n",
    "# Example usage\n",
    "S = \"GeeksforGeeks\"\n",
    "reversedS = reverseString(S)\n",
    "print(reversedS)  # Output: skeeGrofskeeG"
   ]
  },
  {
   "cell_type": "markdown",
   "id": "966e6f5b",
   "metadata": {},
   "source": [
    "💡 **Question 6**\n",
    "\n",
    "Given string **S** representing a postfix expression, the task is to evaluate the expression and find the final value. Operators will only include the basic arithmetic operators like ***, /, + and -**.\n",
    "\n",
    "**Example 1:**                 \n",
    "Input: S = \"231*+9-\"             \n",
    "Output: -4              \n",
    "Explanation: After solving the given expression, we have -4 as result.       \n",
    "\n",
    "**Example 2:**       \n",
    "Input: S = \"123+*8-\"          \n",
    "Output: -3           \n",
    "Explanation: After solving the given postfix expression, we have -3 as result.     "
   ]
  },
  {
   "cell_type": "code",
   "execution_count": 6,
   "id": "807eb104",
   "metadata": {},
   "outputs": [
    {
     "name": "stdout",
     "output_type": "stream",
     "text": [
      "-4\n",
      "-3\n"
     ]
    }
   ],
   "source": [
    "def evaluatePostfixExpression(S):\n",
    "    stack = []\n",
    "\n",
    "    for char in S:\n",
    "        if char.isdigit():\n",
    "            stack.append(int(char))\n",
    "        else:\n",
    "            operand2 = stack.pop()\n",
    "            operand1 = stack.pop()\n",
    "\n",
    "            if char == '+':\n",
    "                result = operand1 + operand2\n",
    "            elif char == '-':\n",
    "                result = operand1 - operand2\n",
    "            elif char == '*':\n",
    "                result = operand1 * operand2\n",
    "            elif char == '/':\n",
    "                result = operand1 / operand2\n",
    "\n",
    "            stack.append(result)\n",
    "\n",
    "    return stack.pop()\n",
    "\n",
    "# Example usage\n",
    "S = \"231*+9-\"\n",
    "result = evaluatePostfixExpression(S)\n",
    "print(result)  # Output: -4\n",
    "\n",
    "S = \"123+*8-\"\n",
    "result = evaluatePostfixExpression(S)\n",
    "print(result)  # Output: -3"
   ]
  },
  {
   "cell_type": "markdown",
   "id": "a19320b7",
   "metadata": {},
   "source": [
    "💡 **Question 7**\n",
    "\n",
    "Design a stack that supports push, pop, top, and retrieving the minimum element in constant time.\n",
    "\n",
    "Implement the `MinStack` class:\n",
    "\n",
    "- `MinStack()` initializes the stack object.\n",
    "- `void push(int val)` pushes the element `val` onto the stack.\n",
    "- `void pop()` removes the element on the top of the stack.\n",
    "- `int top()` gets the top element of the stack.\n",
    "- `int getMin()` retrieves the minimum element in the stack.\n",
    "\n",
    "You must implement a solution with `O(1)` time complexity for each function.\n",
    "\n",
    "**Example 1:**\n",
    "Input                       \n",
    "[\"MinStack\",\"push\",\"push\",\"push\",\"getMin\",\"pop\",\"top\",\"getMin\"]              \n",
    "[[],[-2],[0],[-3],[],[],[],[]]          \n",
    "\n",
    "Output                  \n",
    "[null,null,null,null,-3,null,0,-2]             \n",
    "\n",
    "Explanation                  \n",
    "MinStack minStack = new MinStack();                \n",
    "minStack.push(-2);             \n",
    "minStack.push(0);               \n",
    "minStack.push(-3);                \n",
    "minStack.getMin(); // return -3              \n",
    "minStack.pop();                \n",
    "minStack.top();    // return 0            \n",
    "minStack.getMin(); // return -2            "
   ]
  },
  {
   "cell_type": "code",
   "execution_count": 7,
   "id": "84ba105d",
   "metadata": {},
   "outputs": [
    {
     "name": "stdout",
     "output_type": "stream",
     "text": [
      "-3\n",
      "0\n",
      "-2\n"
     ]
    }
   ],
   "source": [
    "class MinStack:\n",
    "    def __init__(self):\n",
    "        self.stack = []\n",
    "        self.min_stack = []\n",
    "\n",
    "    def push(self, val):\n",
    "        self.stack.append(val)\n",
    "        if len(self.min_stack) == 0 or val <= self.min_stack[-1]:\n",
    "            self.min_stack.append(val)\n",
    "\n",
    "    def pop(self):\n",
    "        if len(self.stack) == 0:\n",
    "            return\n",
    "        top = self.stack.pop()\n",
    "        if top == self.min_stack[-1]:\n",
    "            self.min_stack.pop()\n",
    "\n",
    "    def top(self):\n",
    "        if len(self.stack) == 0:\n",
    "            return None\n",
    "        return self.stack[-1]\n",
    "\n",
    "    def getMin(self):\n",
    "        if len(self.min_stack) == 0:\n",
    "            return None\n",
    "        return self.min_stack[-1]\n",
    "\n",
    "\n",
    "# Example usage\n",
    "minStack = MinStack()\n",
    "minStack.push(-2)\n",
    "minStack.push(0)\n",
    "minStack.push(-3)\n",
    "print(minStack.getMin())  # Output: -3\n",
    "minStack.pop()\n",
    "print(minStack.top())  # Output: 0\n",
    "print(minStack.getMin())  # Output: -2"
   ]
  },
  {
   "cell_type": "markdown",
   "id": "a57148e9",
   "metadata": {},
   "source": [
    "💡 **Question 8**\n",
    "Given `n` non-negative integers representing an elevation map where the width of each bar is `1`, compute how much water it can trap after raining.\n",
    "\n",
    "**Example 1:**            \n",
    "Input: height = [0,1,0,2,1,0,1,3,2,1,2,1]      \n",
    "Output: 6               \n",
    "Explanation: The above elevation map (black section) is represented by array [0,1,0,2,1,0,1,3,2,1,2,1]. In this case, 6 units of rain water (blue section) are being trapped.              \n",
    "\n",
    "**Example 2:**  \n",
    "Input: height = [4,2,0,3,2,5]          \n",
    "Output: 9             "
   ]
  },
  {
   "cell_type": "code",
   "execution_count": 8,
   "id": "b8a9b09b",
   "metadata": {},
   "outputs": [
    {
     "name": "stdout",
     "output_type": "stream",
     "text": [
      "6\n",
      "9\n"
     ]
    }
   ],
   "source": [
    "def trap(height):\n",
    "    if len(height) <= 2:\n",
    "        return 0\n",
    "\n",
    "    left = 0\n",
    "    right = len(height) - 1\n",
    "    max_left = max_right = water = 0\n",
    "\n",
    "    while left <= right:\n",
    "        if height[left] <= height[right]:\n",
    "            max_left = max(max_left, height[left])\n",
    "            if height[left] < max_left:\n",
    "                water += max_left - height[left]\n",
    "            left += 1\n",
    "        else:\n",
    "            max_right = max(max_right, height[right])\n",
    "            if height[right] < max_right:\n",
    "                water += max_right - height[right]\n",
    "            right -= 1\n",
    "\n",
    "    return water\n",
    "\n",
    "# Example usage\n",
    "height = [0, 1, 0, 2, 1, 0, 1, 3, 2, 1, 2, 1]\n",
    "print(trap(height))  # Output: 6\n",
    "\n",
    "height = [4, 2, 0, 3, 2, 5]\n",
    "print(trap(height))  # Output: 9\n"
   ]
  },
  {
   "cell_type": "code",
   "execution_count": null,
   "id": "7918cd6c",
   "metadata": {},
   "outputs": [],
   "source": []
  }
 ],
 "metadata": {
  "kernelspec": {
   "display_name": "Python 3 (ipykernel)",
   "language": "python",
   "name": "python3"
  },
  "language_info": {
   "codemirror_mode": {
    "name": "ipython",
    "version": 3
   },
   "file_extension": ".py",
   "mimetype": "text/x-python",
   "name": "python",
   "nbconvert_exporter": "python",
   "pygments_lexer": "ipython3",
   "version": "3.9.7"
  }
 },
 "nbformat": 4,
 "nbformat_minor": 5
}

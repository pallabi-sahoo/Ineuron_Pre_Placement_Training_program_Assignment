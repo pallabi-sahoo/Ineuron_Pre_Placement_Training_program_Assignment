{
 "cells": [
  {
   "cell_type": "markdown",
   "id": "ef1accda",
   "metadata": {},
   "source": [
    "First Unique Character in a String                                                      \n",
    "                                                                               \n",
    "Given a string s, find the first non-repeating character in it and return its index. If it does not exist, return -1.\n",
    "                                           \n",
    "Example 1:                                        \n",
    "Input: s = \"leetcode\"                                  \n",
    "Output: 0                                            \n",
    "                                                  \n",
    "Example 2:                           \n",
    "Input: s = \"loveleetcode\"                             \n",
    "Output: 2                                   \n",
    "                                               \n",
    "Example 3:                                    \n",
    "Input: s = \"aabb\"                                \n",
    "Output: -1                                                \n",
    "                                               \n",
    "Constraints:                                 \n",
    "a. 1 <= s.length <= 10^5                                    \n",
    "b. s consists of only lowercase English letters.                              \n",
    "                                                   \n",
    "Note: Create a GitHub file for the solution and add the file link the the answer section below.                 "
   ]
  },
  {
   "cell_type": "code",
   "execution_count": 1,
   "id": "3f12c2c4",
   "metadata": {},
   "outputs": [
    {
     "name": "stdout",
     "output_type": "stream",
     "text": [
      "0\n",
      "2\n",
      "-1\n"
     ]
    }
   ],
   "source": [
    "def firstUniqChar(s):\n",
    "    char_count = {}  # Dictionary to store character counts\n",
    "    \n",
    "    # Count the occurrences of each character\n",
    "    for char in s:\n",
    "        if char in char_count:\n",
    "            char_count[char] += 1\n",
    "        else:\n",
    "            char_count[char] = 1\n",
    "    \n",
    "    # Iterate through the string again to find the first non-repeating character\n",
    "    for i, char in enumerate(s):\n",
    "        if char_count[char] == 1:\n",
    "            return i\n",
    "    \n",
    "    return -1  # Return -1 if no non-repeating character is found\n",
    "\n",
    "# Test the function\n",
    "s = \"leetcode\"\n",
    "print(firstUniqChar(s))  # Output: 0\n",
    "\n",
    "s = \"loveleetcode\"\n",
    "print(firstUniqChar(s))  # Output: 2\n",
    "\n",
    "s = \"aabb\"\n",
    "print(firstUniqChar(s))  # Output: -1"
   ]
  },
  {
   "cell_type": "code",
   "execution_count": null,
   "id": "358da4b9",
   "metadata": {},
   "outputs": [],
   "source": []
  }
 ],
 "metadata": {
  "kernelspec": {
   "display_name": "Python 3 (ipykernel)",
   "language": "python",
   "name": "python3"
  },
  "language_info": {
   "codemirror_mode": {
    "name": "ipython",
    "version": 3
   },
   "file_extension": ".py",
   "mimetype": "text/x-python",
   "name": "python",
   "nbconvert_exporter": "python",
   "pygments_lexer": "ipython3",
   "version": "3.9.7"
  }
 },
 "nbformat": 4,
 "nbformat_minor": 5
}

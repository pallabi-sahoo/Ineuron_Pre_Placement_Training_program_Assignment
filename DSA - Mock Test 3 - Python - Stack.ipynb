{
 "cells": [
  {
   "cell_type": "markdown",
   "id": "d303def0",
   "metadata": {},
   "source": [
    "Implement a stack using a list in Python. Include the necessary methods such as push, pop, and isEmpty."
   ]
  },
  {
   "cell_type": "code",
   "execution_count": 1,
   "id": "06f5108f",
   "metadata": {},
   "outputs": [
    {
     "name": "stdout",
     "output_type": "stream",
     "text": [
      "3\n",
      "2\n",
      "False\n",
      "1\n",
      "True\n",
      "None\n"
     ]
    }
   ],
   "source": [
    "class Stack:\n",
    "    def __init__(self):\n",
    "        self.stack = []\n",
    "\n",
    "    def push(self, item):\n",
    "        self.stack.append(item)\n",
    "\n",
    "    def pop(self):\n",
    "        if self.isEmpty():\n",
    "            return None\n",
    "        return self.stack.pop()\n",
    "\n",
    "    def isEmpty(self):\n",
    "        return len(self.stack) == 0\n",
    "\n",
    "stack = Stack()\n",
    "stack.push(1)\n",
    "stack.push(2)\n",
    "stack.push(3)\n",
    "print(stack.pop())  # Output: 3\n",
    "print(stack.pop())  # Output: 2\n",
    "print(stack.isEmpty())  # Output: False\n",
    "print(stack.pop())  # Output: 1\n",
    "print(stack.isEmpty())  # Output: True\n",
    "print(stack.pop())  # Output: None"
   ]
  },
  {
   "cell_type": "code",
   "execution_count": null,
   "id": "65ac739a",
   "metadata": {},
   "outputs": [],
   "source": []
  }
 ],
 "metadata": {
  "kernelspec": {
   "display_name": "Python 3 (ipykernel)",
   "language": "python",
   "name": "python3"
  },
  "language_info": {
   "codemirror_mode": {
    "name": "ipython",
    "version": 3
   },
   "file_extension": ".py",
   "mimetype": "text/x-python",
   "name": "python",
   "nbconvert_exporter": "python",
   "pygments_lexer": "ipython3",
   "version": "3.9.7"
  }
 },
 "nbformat": 4,
 "nbformat_minor": 5
}
